{
  "nbformat": 4,
  "nbformat_minor": 0,
  "metadata": {
    "colab": {
      "provenance": [],
      "authorship_tag": "ABX9TyNCuy56Lk2jZABCAkCl7aZE",
      "include_colab_link": true
    },
    "kernelspec": {
      "name": "python3",
      "display_name": "Python 3"
    },
    "language_info": {
      "name": "python"
    }
  },
  "cells": [
    {
      "cell_type": "markdown",
      "metadata": {
        "id": "view-in-github",
        "colab_type": "text"
      },
      "source": [
        "<a href=\"https://colab.research.google.com/github/tinkvu/TravelRecommenderUsingLLM/blob/main/Notebooks/DataPreprocessing.ipynb\" target=\"_parent\"><img src=\"https://colab.research.google.com/assets/colab-badge.svg\" alt=\"Open In Colab\"/></a>"
      ]
    },
    {
      "cell_type": "code",
      "execution_count": 1,
      "metadata": {
        "colab": {
          "base_uri": "https://localhost:8080/"
        },
        "id": "l0_HTjA9vlC1",
        "outputId": "afa6e8c6-399e-43df-a304-8b3f78073910"
      },
      "outputs": [
        {
          "output_type": "stream",
          "name": "stdout",
          "text": [
            "Cloning into 'TravelRecommenderUsingLLM'...\n",
            "remote: Enumerating objects: 44, done.\u001b[K\n",
            "remote: Counting objects: 100% (44/44), done.\u001b[K\n",
            "remote: Compressing objects: 100% (39/39), done.\u001b[K\n",
            "remote: Total 44 (delta 15), reused 0 (delta 0), pack-reused 0\u001b[K\n",
            "Receiving objects: 100% (44/44), 1.72 MiB | 3.92 MiB/s, done.\n",
            "Resolving deltas: 100% (15/15), done.\n"
          ]
        }
      ],
      "source": [
        "# prompt: Get data from github : https://github.com/tinkvu/TravelRecommenderUsingLLM/tree/main\n",
        "\n",
        "!git clone https://github.com/tinkvu/TravelRecommenderUsingLLM.git\n",
        "!ls"
      ]
    },
    {
      "cell_type": "code",
      "source": [
        "!cd TravelRecommenderUsingLLM"
      ],
      "metadata": {
        "id": "9dsZLPpIv5Qb"
      },
      "execution_count": 3,
      "outputs": []
    }
  ]
}